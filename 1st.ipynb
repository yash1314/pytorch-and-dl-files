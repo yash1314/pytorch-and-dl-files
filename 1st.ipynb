{
 "cells": [
  {
   "cell_type": "code",
   "execution_count": 1,
   "id": "36ec4eb7",
   "metadata": {},
   "outputs": [],
   "source": [
    "import torch\n",
    "import torch.nn as nn\n",
    "import numpy as np\n",
    "import matplotlib.pyplot as plt"
   ]
  },
  {
   "cell_type": "code",
   "execution_count": 2,
   "id": "85b9f12d",
   "metadata": {},
   "outputs": [],
   "source": [
    "w = [[1,2,3],[4,5,6],[7,8,9]]\n",
    "x = [[1],[2],[3]]"
   ]
  },
  {
   "cell_type": "code",
   "execution_count": 3,
   "id": "5ccaf1a5",
   "metadata": {},
   "outputs": [],
   "source": [
    "w_torch = torch.FloatTensor(w)\n",
    "\n",
    "x_torch = torch.FloatTensor(x)\n",
    "\n",
    "b_torch = torch.ones(3,1)\n",
    "\n",
    "output = torch.matmul(w_torch, x_torch) + b_torch # computing mx + b"
   ]
  },
  {
   "cell_type": "code",
   "execution_count": 4,
   "id": "8082542c",
   "metadata": {},
   "outputs": [
    {
     "data": {
      "text/plain": [
       "tensor([[15.],\n",
       "        [33.],\n",
       "        [51.]])"
      ]
     },
     "execution_count": 4,
     "metadata": {},
     "output_type": "execute_result"
    }
   ],
   "source": [
    "output"
   ]
  },
  {
   "cell_type": "code",
   "execution_count": 5,
   "id": "7fb78f64",
   "metadata": {},
   "outputs": [
    {
     "data": {
      "text/plain": [
       "torch.Size([3, 1])"
      ]
     },
     "execution_count": 5,
     "metadata": {},
     "output_type": "execute_result"
    }
   ],
   "source": [
    "output.shape"
   ]
  },
  {
   "cell_type": "code",
   "execution_count": 12,
   "id": "15b68c39",
   "metadata": {},
   "outputs": [],
   "source": [
    "# numpy to torch and vice-versa\n",
    "\n",
    "np_array = np.random.random((3, 4))\n",
    "\n",
    "torch_tensor = torch.FloatTensor(np_array)\n",
    "\n",
    "np_torch = torch_tensor.numpy()"
   ]
  },
  {
   "cell_type": "code",
   "execution_count": 13,
   "id": "2a272f44",
   "metadata": {},
   "outputs": [
    {
     "data": {
      "text/plain": [
       "array([[0.41724825, 0.5029771 , 0.09062142, 0.91337149],\n",
       "       [0.45325667, 0.62576513, 0.14648372, 0.89584462],\n",
       "       [0.28906318, 0.28927851, 0.63028255, 0.24913278]])"
      ]
     },
     "execution_count": 13,
     "metadata": {},
     "output_type": "execute_result"
    }
   ],
   "source": [
    "np_array"
   ]
  },
  {
   "cell_type": "code",
   "execution_count": 14,
   "id": "58797438",
   "metadata": {},
   "outputs": [
    {
     "data": {
      "text/plain": [
       "tensor([[0.4172, 0.5030, 0.0906, 0.9134],\n",
       "        [0.4533, 0.6258, 0.1465, 0.8958],\n",
       "        [0.2891, 0.2893, 0.6303, 0.2491]])"
      ]
     },
     "execution_count": 14,
     "metadata": {},
     "output_type": "execute_result"
    }
   ],
   "source": [
    "torch_tensor"
   ]
  },
  {
   "cell_type": "code",
   "execution_count": 15,
   "id": "ce4db7a3",
   "metadata": {},
   "outputs": [
    {
     "data": {
      "text/plain": [
       "array([[0.41724825, 0.5029771 , 0.09062142, 0.9133715 ],\n",
       "       [0.45325667, 0.62576514, 0.14648372, 0.89584464],\n",
       "       [0.2890632 , 0.2892785 , 0.6302826 , 0.24913278]], dtype=float32)"
      ]
     },
     "execution_count": 15,
     "metadata": {},
     "output_type": "execute_result"
    }
   ],
   "source": [
    "np_torch"
   ]
  },
  {
   "cell_type": "code",
   "execution_count": 16,
   "id": "148f61f8",
   "metadata": {},
   "outputs": [],
   "source": [
    "y = torch.rand(4,5)"
   ]
  },
  {
   "cell_type": "code",
   "execution_count": 17,
   "id": "2df08b8a",
   "metadata": {},
   "outputs": [
    {
     "data": {
      "text/plain": [
       "tensor([[0.1306, 0.9055, 0.1409, 0.0041, 0.4025],\n",
       "        [0.4864, 0.9706, 0.6406, 0.1611, 0.3400],\n",
       "        [0.2000, 0.5607, 0.1009, 0.4942, 0.1544],\n",
       "        [0.3582, 0.1107, 0.3262, 0.9547, 0.0736]])"
      ]
     },
     "execution_count": 17,
     "metadata": {},
     "output_type": "execute_result"
    }
   ],
   "source": [
    "y"
   ]
  },
  {
   "cell_type": "code",
   "execution_count": 19,
   "id": "191c859b",
   "metadata": {},
   "outputs": [
    {
     "name": "stdout",
     "output_type": "stream",
     "text": [
      "tensor([[1.3063, 9.0548, 1.4089, 0.0406, 4.0251],\n",
      "        [4.8637, 9.7056, 6.4056, 1.6110, 3.4001],\n",
      "        [2.0000, 5.6067, 1.0089, 4.9422, 1.5443],\n",
      "        [3.5820, 1.1074, 3.2622, 9.5467, 0.7357]])\n",
      "tensor([[1.2783, 3.6309, 1.3016, 1.0081, 1.9670],\n",
      "        [2.2093, 3.8831, 2.6914, 1.3482, 1.7956],\n",
      "        [1.4400, 2.4357, 1.2120, 2.2327, 1.3327],\n",
      "        [1.8447, 1.2338, 1.7588, 3.8207, 1.1526]])\n",
      "tensor([[0.2613, 1.8110, 0.2818, 0.0081, 0.8050],\n",
      "        [0.9727, 1.9411, 1.2811, 0.3222, 0.6800],\n",
      "        [0.4000, 1.1213, 0.2018, 0.9884, 0.3089],\n",
      "        [0.7164, 0.2215, 0.6524, 1.9093, 0.1471]])\n"
     ]
    }
   ],
   "source": [
    "# operations on y tensor\n",
    "\n",
    "print(y * 10)\n",
    "print((y+1)**2)\n",
    "print(y+y)"
   ]
  },
  {
   "cell_type": "code",
   "execution_count": 20,
   "id": "e2c4a1dc",
   "metadata": {},
   "outputs": [
    {
     "name": "stdout",
     "output_type": "stream",
     "text": [
      "tensor([[0.1155, 0.4752, 0.1235, 0.0040, 0.2870],\n",
      "        [0.3272, 0.4925, 0.3905, 0.1387, 0.2537],\n",
      "        [0.1667, 0.3592, 0.0916, 0.3308, 0.1338],\n",
      "        [0.2637, 0.0997, 0.2460, 0.4884, 0.0685]])\n"
     ]
    }
   ],
   "source": [
    "print(y/(y+1))"
   ]
  },
  {
   "cell_type": "code",
   "execution_count": 21,
   "id": "bd6605fd",
   "metadata": {},
   "outputs": [
    {
     "data": {
      "text/plain": [
       "tensor([[0.1306, 0.9055, 0.1409, 0.0041, 0.4025],\n",
       "        [0.4864, 0.9706, 0.6406, 0.1611, 0.3400],\n",
       "        [0.2000, 0.5607, 0.1009, 0.4942, 0.1544],\n",
       "        [0.3582, 0.1107, 0.3262, 0.9547, 0.0736]])"
      ]
     },
     "execution_count": 21,
     "metadata": {},
     "output_type": "execute_result"
    }
   ],
   "source": [
    "torch.sqrt(y**2)"
   ]
  },
  {
   "cell_type": "code",
   "execution_count": 22,
   "id": "fee273ce",
   "metadata": {},
   "outputs": [
    {
     "data": {
      "text/plain": [
       "(tensor(0.3758),\n",
       " tensor(7.5158),\n",
       " tensor(0.0041),\n",
       " tensor(0.9706),\n",
       " tensor(0.3010))"
      ]
     },
     "execution_count": 22,
     "metadata": {},
     "output_type": "execute_result"
    }
   ],
   "source": [
    "y.mean(), y.sum(), y.min(), y.max(), y.std()"
   ]
  },
  {
   "cell_type": "code",
   "execution_count": 26,
   "id": "ff8eb8dd",
   "metadata": {},
   "outputs": [
    {
     "data": {
      "text/plain": [
       "tensor([[[0.6432, 0.2862, 0.2442],\n",
       "         [0.3801, 0.0473, 0.9661],\n",
       "         [0.9003, 0.1032, 0.4013]],\n",
       "\n",
       "        [[0.4805, 0.6515, 0.2758],\n",
       "         [0.9335, 0.5082, 0.3206],\n",
       "         [0.6677, 0.8822, 0.7916]],\n",
       "\n",
       "        [[0.7833, 0.9964, 0.7489],\n",
       "         [0.1741, 0.2913, 0.8591],\n",
       "         [0.1712, 0.4589, 0.9785]]])"
      ]
     },
     "execution_count": 26,
     "metadata": {},
     "output_type": "execute_result"
    }
   ],
   "source": [
    "# tensor operations\n",
    "\n",
    "tensor_1 = torch.rand(3,3,3)\n",
    "t_2 = torch.rand(3,3,3)\n",
    "\n",
    "tensor_1\n",
    "t_2"
   ]
  },
  {
   "cell_type": "code",
   "execution_count": 27,
   "id": "d9883a6f",
   "metadata": {},
   "outputs": [
    {
     "data": {
      "text/plain": [
       "tensor([[[1.2195, 0.6420, 1.1420],\n",
       "         [0.6418, 0.1987, 1.0010],\n",
       "         [0.9508, 1.0082, 1.3274]],\n",
       "\n",
       "        [[1.3828, 0.6995, 0.9831],\n",
       "         [1.6450, 0.7714, 0.4441],\n",
       "         [1.6364, 1.1164, 1.0462]],\n",
       "\n",
       "        [[0.8705, 1.1353, 1.3873],\n",
       "         [0.5640, 0.4905, 1.4265],\n",
       "         [0.4823, 1.0147, 1.9193]]])"
      ]
     },
     "execution_count": 27,
     "metadata": {},
     "output_type": "execute_result"
    }
   ],
   "source": [
    "tensor_1 + t_2"
   ]
  },
  {
   "cell_type": "code",
   "execution_count": 28,
   "id": "c3d57dc3",
   "metadata": {},
   "outputs": [
    {
     "data": {
      "text/plain": [
       "tensor([[[1.3142, 0.2744, 0.8448],\n",
       "         [0.2573, 0.0857, 0.2242],\n",
       "         [1.2102, 0.1529, 1.2584]],\n",
       "\n",
       "        [[0.9506, 1.2362, 0.8241],\n",
       "         [0.6700, 0.7062, 0.3784],\n",
       "         [0.8541, 0.9748, 0.5438]],\n",
       "\n",
       "        [[0.2018, 0.4203, 0.8093],\n",
       "         [0.4372, 0.7069, 1.0183],\n",
       "         [0.5015, 0.9036, 1.6311]]])"
      ]
     },
     "execution_count": 28,
     "metadata": {},
     "output_type": "execute_result"
    }
   ],
   "source": [
    "# batch multiplication on 3d tensor\n",
    "\n",
    "torch.bmm(tensor_1, t_2)"
   ]
  },
  {
   "cell_type": "code",
   "execution_count": 30,
   "id": "e8ad34ab",
   "metadata": {},
   "outputs": [
    {
     "data": {
      "text/plain": [
       "tensor([[[0.3781, 0.9628, 0.8833, 0.5191, 0.4057],\n",
       "         [0.8043, 0.3238, 0.5988, 0.4047, 0.4053],\n",
       "         [0.8764, 0.1038, 0.4806, 0.4865, 0.5102],\n",
       "         [0.2534, 0.7790, 0.2823, 0.1326, 0.7678]],\n",
       "\n",
       "        [[0.3752, 0.3494, 0.9181, 0.5771, 0.0909],\n",
       "         [0.9665, 0.6131, 0.1544, 0.6773, 0.2621],\n",
       "         [0.6622, 0.8263, 0.6126, 0.0087, 0.4188],\n",
       "         [0.0261, 0.4140, 0.8563, 0.2454, 0.6840]]])"
      ]
     },
     "execution_count": 30,
     "metadata": {},
     "output_type": "execute_result"
    }
   ],
   "source": [
    "t_3 = torch.rand(2,4,5)\n",
    "t_3"
   ]
  },
  {
   "cell_type": "code",
   "execution_count": 31,
   "id": "08759059",
   "metadata": {},
   "outputs": [
    {
     "data": {
      "text/plain": [
       "torch.Size([2, 4, 5])"
      ]
     },
     "execution_count": 31,
     "metadata": {},
     "output_type": "execute_result"
    }
   ],
   "source": [
    "t_3.shape"
   ]
  },
  {
   "cell_type": "code",
   "execution_count": 33,
   "id": "42fea026",
   "metadata": {},
   "outputs": [
    {
     "data": {
      "text/plain": [
       "(tensor([[[0.3781, 0.3752],\n",
       "          [0.8043, 0.9665],\n",
       "          [0.8764, 0.6622],\n",
       "          [0.2534, 0.0261]],\n",
       " \n",
       "         [[0.9628, 0.3494],\n",
       "          [0.3238, 0.6131],\n",
       "          [0.1038, 0.8263],\n",
       "          [0.7790, 0.4140]],\n",
       " \n",
       "         [[0.8833, 0.9181],\n",
       "          [0.5988, 0.1544],\n",
       "          [0.4806, 0.6126],\n",
       "          [0.2823, 0.8563]],\n",
       " \n",
       "         [[0.5191, 0.5771],\n",
       "          [0.4047, 0.6773],\n",
       "          [0.4865, 0.0087],\n",
       "          [0.1326, 0.2454]],\n",
       " \n",
       "         [[0.4057, 0.0909],\n",
       "          [0.4053, 0.2621],\n",
       "          [0.5102, 0.4188],\n",
       "          [0.7678, 0.6840]]]),\n",
       " torch.Size([5, 4, 2]))"
      ]
     },
     "execution_count": 33,
     "metadata": {},
     "output_type": "execute_result"
    }
   ],
   "source": [
    "t_3.transpose(0, 2), t_3.transpose(0, 2).shape"
   ]
  },
  {
   "cell_type": "code",
   "execution_count": 34,
   "id": "52a6ad5e",
   "metadata": {},
   "outputs": [],
   "source": [
    "tensor = torch.rand(2,3,1,4)"
   ]
  },
  {
   "cell_type": "code",
   "execution_count": 36,
   "id": "d6eb837f",
   "metadata": {},
   "outputs": [
    {
     "data": {
      "text/plain": [
       "tensor([[[[7.0144e-01, 7.0257e-01, 1.6317e-01, 7.8449e-01]],\n",
       "\n",
       "         [[3.3370e-01, 7.5643e-01, 7.8288e-01, 5.7935e-01]],\n",
       "\n",
       "         [[1.8213e-01, 9.5737e-01, 3.4837e-01, 7.8082e-01]]],\n",
       "\n",
       "\n",
       "        [[[4.4619e-01, 5.9043e-01, 9.0258e-01, 2.1477e-02]],\n",
       "\n",
       "         [[3.7656e-03, 4.3172e-01, 6.1694e-01, 9.1622e-01]],\n",
       "\n",
       "         [[7.5757e-01, 1.7881e-04, 8.2825e-02, 4.0574e-01]]]])"
      ]
     },
     "execution_count": 36,
     "metadata": {},
     "output_type": "execute_result"
    }
   ],
   "source": [
    "tensor"
   ]
  },
  {
   "cell_type": "code",
   "execution_count": 35,
   "id": "50e7313f",
   "metadata": {},
   "outputs": [
    {
     "data": {
      "text/plain": [
       "tensor([[[4.4619e-01, 5.9043e-01, 9.0258e-01, 2.1477e-02]],\n",
       "\n",
       "        [[3.7656e-03, 4.3172e-01, 6.1694e-01, 9.1622e-01]],\n",
       "\n",
       "        [[7.5757e-01, 1.7881e-04, 8.2825e-02, 4.0574e-01]]])"
      ]
     },
     "execution_count": 35,
     "metadata": {},
     "output_type": "execute_result"
    }
   ],
   "source": [
    "tensor[-1]"
   ]
  },
  {
   "cell_type": "code",
   "execution_count": 38,
   "id": "d6c5c606",
   "metadata": {},
   "outputs": [
    {
     "data": {
      "text/plain": [
       "tensor([[0.3337, 0.7564, 0.7829, 0.5794]])"
      ]
     },
     "execution_count": 38,
     "metadata": {},
     "output_type": "execute_result"
    }
   ],
   "source": [
    "tensor[0, 1]"
   ]
  },
  {
   "cell_type": "code",
   "execution_count": 39,
   "id": "dbb353a8",
   "metadata": {},
   "outputs": [
    {
     "data": {
      "text/plain": [
       "tensor([0.7829, 0.6169])"
      ]
     },
     "execution_count": 39,
     "metadata": {},
     "output_type": "execute_result"
    }
   ],
   "source": [
    "tensor[:, 1, 0, 2]"
   ]
  },
  {
   "cell_type": "code",
   "execution_count": 41,
   "id": "5ed17a3b",
   "metadata": {},
   "outputs": [
    {
     "data": {
      "text/plain": [
       "torch.Size([2, 3, 1, 4])"
      ]
     },
     "execution_count": 41,
     "metadata": {},
     "output_type": "execute_result"
    }
   ],
   "source": [
    "tensor.shape"
   ]
  },
  {
   "cell_type": "code",
   "execution_count": 42,
   "id": "a56076a5",
   "metadata": {},
   "outputs": [
    {
     "data": {
      "text/plain": [
       "torch.Size([2, 3, 1, 4])"
      ]
     },
     "execution_count": 42,
     "metadata": {},
     "output_type": "execute_result"
    }
   ],
   "source": [
    "tensor.size()"
   ]
  },
  {
   "cell_type": "code",
   "execution_count": 43,
   "id": "fa32734f",
   "metadata": {},
   "outputs": [
    {
     "data": {
      "text/plain": [
       "24"
      ]
     },
     "execution_count": 43,
     "metadata": {},
     "output_type": "execute_result"
    }
   ],
   "source": [
    "tensor.numel()"
   ]
  },
  {
   "cell_type": "code",
   "execution_count": 44,
   "id": "4aff5309",
   "metadata": {},
   "outputs": [
    {
     "data": {
      "text/plain": [
       "4"
      ]
     },
     "execution_count": 44,
     "metadata": {},
     "output_type": "execute_result"
    }
   ],
   "source": [
    "tensor.ndim"
   ]
  },
  {
   "cell_type": "code",
   "execution_count": 46,
   "id": "db8bb667",
   "metadata": {},
   "outputs": [],
   "source": [
    "tensor = torch.rand(3,5,3,2)"
   ]
  },
  {
   "cell_type": "code",
   "execution_count": 47,
   "id": "c5aa8faf",
   "metadata": {
    "scrolled": true
   },
   "outputs": [
    {
     "data": {
      "text/plain": [
       "tensor([[0.2955, 0.8701, 0.7172, 0.4005, 0.4127, 0.4665, 0.8461, 0.7130, 0.6783,\n",
       "         0.6415, 0.1778, 0.3925, 0.8658, 0.8954, 0.5397, 0.8930, 0.6265, 0.9234,\n",
       "         0.0782, 0.0320, 0.6353, 0.8273, 0.6022, 0.2234, 0.5415, 0.1171, 0.6505,\n",
       "         0.5007, 0.8814, 0.5048],\n",
       "        [0.9890, 0.2645, 0.5397, 0.7442, 0.6170, 0.7856, 0.1143, 0.1155, 0.1082,\n",
       "         0.5706, 0.2632, 0.6501, 0.5876, 0.1606, 0.6530, 0.0968, 0.4139, 0.1769,\n",
       "         0.5728, 0.9525, 0.8470, 0.2825, 0.7095, 0.2893, 0.5719, 0.7392, 0.2025,\n",
       "         0.9667, 0.9147, 0.2152],\n",
       "        [0.4739, 0.3377, 0.3258, 0.7622, 0.3641, 0.5506, 0.9637, 0.8450, 0.9476,\n",
       "         0.6808, 0.1381, 0.7038, 0.0850, 0.8402, 0.8389, 0.4287, 0.1009, 0.3874,\n",
       "         0.1672, 0.1413, 0.5224, 0.3500, 0.0255, 0.5054, 0.8814, 0.6597, 0.1130,\n",
       "         0.1278, 0.7585, 0.5445]])"
      ]
     },
     "execution_count": 47,
     "metadata": {},
     "output_type": "execute_result"
    }
   ],
   "source": [
    "tensor.reshape(3,30)"
   ]
  },
  {
   "cell_type": "code",
   "execution_count": 48,
   "id": "42a8402b",
   "metadata": {
    "scrolled": true
   },
   "outputs": [
    {
     "data": {
      "text/plain": [
       "tensor([0.2955, 0.8701, 0.7172, 0.4005, 0.4127, 0.4665, 0.8461, 0.7130, 0.6783,\n",
       "        0.6415, 0.1778, 0.3925, 0.8658, 0.8954, 0.5397, 0.8930, 0.6265, 0.9234,\n",
       "        0.0782, 0.0320, 0.6353, 0.8273, 0.6022, 0.2234, 0.5415, 0.1171, 0.6505,\n",
       "        0.5007, 0.8814, 0.5048, 0.9890, 0.2645, 0.5397, 0.7442, 0.6170, 0.7856,\n",
       "        0.1143, 0.1155, 0.1082, 0.5706, 0.2632, 0.6501, 0.5876, 0.1606, 0.6530,\n",
       "        0.0968, 0.4139, 0.1769, 0.5728, 0.9525, 0.8470, 0.2825, 0.7095, 0.2893,\n",
       "        0.5719, 0.7392, 0.2025, 0.9667, 0.9147, 0.2152, 0.4739, 0.3377, 0.3258,\n",
       "        0.7622, 0.3641, 0.5506, 0.9637, 0.8450, 0.9476, 0.6808, 0.1381, 0.7038,\n",
       "        0.0850, 0.8402, 0.8389, 0.4287, 0.1009, 0.3874, 0.1672, 0.1413, 0.5224,\n",
       "        0.3500, 0.0255, 0.5054, 0.8814, 0.6597, 0.1130, 0.1278, 0.7585, 0.5445])"
      ]
     },
     "execution_count": 48,
     "metadata": {},
     "output_type": "execute_result"
    }
   ],
   "source": [
    "tensor.flatten()"
   ]
  },
  {
   "cell_type": "code",
   "execution_count": 49,
   "id": "630da1bd",
   "metadata": {},
   "outputs": [
    {
     "data": {
      "text/plain": [
       "tensor([[0.2955, 0.8701, 0.7172, 0.4005, 0.4127, 0.4665, 0.8461, 0.7130, 0.6783],\n",
       "        [0.6415, 0.1778, 0.3925, 0.8658, 0.8954, 0.5397, 0.8930, 0.6265, 0.9234],\n",
       "        [0.0782, 0.0320, 0.6353, 0.8273, 0.6022, 0.2234, 0.5415, 0.1171, 0.6505],\n",
       "        [0.5007, 0.8814, 0.5048, 0.9890, 0.2645, 0.5397, 0.7442, 0.6170, 0.7856],\n",
       "        [0.1143, 0.1155, 0.1082, 0.5706, 0.2632, 0.6501, 0.5876, 0.1606, 0.6530],\n",
       "        [0.0968, 0.4139, 0.1769, 0.5728, 0.9525, 0.8470, 0.2825, 0.7095, 0.2893],\n",
       "        [0.5719, 0.7392, 0.2025, 0.9667, 0.9147, 0.2152, 0.4739, 0.3377, 0.3258],\n",
       "        [0.7622, 0.3641, 0.5506, 0.9637, 0.8450, 0.9476, 0.6808, 0.1381, 0.7038],\n",
       "        [0.0850, 0.8402, 0.8389, 0.4287, 0.1009, 0.3874, 0.1672, 0.1413, 0.5224],\n",
       "        [0.3500, 0.0255, 0.5054, 0.8814, 0.6597, 0.1130, 0.1278, 0.7585, 0.5445]])"
      ]
     },
     "execution_count": 49,
     "metadata": {},
     "output_type": "execute_result"
    }
   ],
   "source": [
    "tensor.reshape(10, -1)"
   ]
  },
  {
   "cell_type": "code",
   "execution_count": 50,
   "id": "bf5461b4",
   "metadata": {},
   "outputs": [
    {
     "name": "stdout",
     "output_type": "stream",
     "text": [
      "torch.Size([3, 2])\n"
     ]
    }
   ],
   "source": [
    "# adding empty dimension to equal other dimensions for opertions.\n",
    "\n",
    "t = torch.rand(3, 2)\n",
    "\n",
    "print(t.shape)"
   ]
  },
  {
   "cell_type": "code",
   "execution_count": 51,
   "id": "59e7f575",
   "metadata": {},
   "outputs": [
    {
     "data": {
      "text/plain": [
       "torch.Size([3, 2, 1])"
      ]
     },
     "execution_count": 51,
     "metadata": {},
     "output_type": "execute_result"
    }
   ],
   "source": [
    "t.unsqueeze(2).shape"
   ]
  },
  {
   "cell_type": "code",
   "execution_count": 52,
   "id": "76ec5326",
   "metadata": {},
   "outputs": [
    {
     "data": {
      "text/plain": [
       "torch.Size([3, 1, 2])"
      ]
     },
     "execution_count": 52,
     "metadata": {},
     "output_type": "execute_result"
    }
   ],
   "source": [
    "t.unsqueeze(1).shape"
   ]
  },
  {
   "cell_type": "code",
   "execution_count": 53,
   "id": "2ec22cc9",
   "metadata": {},
   "outputs": [],
   "source": [
    "t = torch.rand(1,3,1,2)"
   ]
  },
  {
   "cell_type": "code",
   "execution_count": 54,
   "id": "93b0061c",
   "metadata": {},
   "outputs": [
    {
     "data": {
      "text/plain": [
       "torch.Size([1, 3, 1, 2])"
      ]
     },
     "execution_count": 54,
     "metadata": {},
     "output_type": "execute_result"
    }
   ],
   "source": [
    "t.shape"
   ]
  },
  {
   "cell_type": "code",
   "execution_count": 55,
   "id": "f73f6147",
   "metadata": {},
   "outputs": [
    {
     "data": {
      "text/plain": [
       "torch.Size([1, 3, 2])"
      ]
     },
     "execution_count": 55,
     "metadata": {},
     "output_type": "execute_result"
    }
   ],
   "source": [
    "t.squeeze(2).shape"
   ]
  },
  {
   "cell_type": "code",
   "execution_count": 57,
   "id": "70ee9ca7",
   "metadata": {},
   "outputs": [
    {
     "data": {
      "text/plain": [
       "torch.Size([3, 1, 2])"
      ]
     },
     "execution_count": 57,
     "metadata": {},
     "output_type": "execute_result"
    }
   ],
   "source": [
    "t.squeeze(0).shape"
   ]
  },
  {
   "cell_type": "code",
   "execution_count": 62,
   "id": "d5617257",
   "metadata": {},
   "outputs": [
    {
     "data": {
      "text/plain": [
       "torch.Size([3, 2])"
      ]
     },
     "execution_count": 62,
     "metadata": {},
     "output_type": "execute_result"
    }
   ],
   "source": [
    "t.squeeze().shape"
   ]
  },
  {
   "cell_type": "code",
   "execution_count": 63,
   "id": "09ca7d60",
   "metadata": {},
   "outputs": [],
   "source": [
    "t1 = torch.rand(1,4,3,1)\n",
    "t2 = torch.rand(3,4,1,4)"
   ]
  },
  {
   "cell_type": "code",
   "execution_count": 68,
   "id": "eec384ed",
   "metadata": {},
   "outputs": [
    {
     "data": {
      "text/plain": [
       "torch.Size([1, 4, 3, 1])"
      ]
     },
     "execution_count": 68,
     "metadata": {},
     "output_type": "execute_result"
    }
   ],
   "source": [
    "t1.shape"
   ]
  },
  {
   "cell_type": "code",
   "execution_count": 70,
   "id": "4797aaf6",
   "metadata": {},
   "outputs": [
    {
     "data": {
      "text/plain": [
       "torch.Size([3, 4, 1, 4])"
      ]
     },
     "execution_count": 70,
     "metadata": {},
     "output_type": "execute_result"
    }
   ],
   "source": [
    "t2.shape"
   ]
  },
  {
   "cell_type": "code",
   "execution_count": 71,
   "id": "4fa9554d",
   "metadata": {},
   "outputs": [],
   "source": [
    "t = t1 + t2"
   ]
  },
  {
   "cell_type": "code",
   "execution_count": 72,
   "id": "78ffe7e6",
   "metadata": {},
   "outputs": [
    {
     "data": {
      "text/plain": [
       "torch.Size([3, 4, 3, 4])"
      ]
     },
     "execution_count": 72,
     "metadata": {},
     "output_type": "execute_result"
    }
   ],
   "source": [
    "t.shape"
   ]
  },
  {
   "cell_type": "code",
   "execution_count": 6,
   "id": "85c0fe36",
   "metadata": {},
   "outputs": [],
   "source": [
    "## using squeeze and unsqueeze we can add and remove one or more dimensions to adjust the overall dimensions. \n",
    "## We add new dimension to equal with others tensors, this is done by adding zeros in that dimesnion."
   ]
  },
  {
   "cell_type": "markdown",
   "id": "aa594118",
   "metadata": {},
   "source": [
    "### for training and model building we use these functions.\n",
    "\n",
    "- nn.Linear() # linear model\n",
    "\n",
    "- nn.sigmoid() # sigmoid model\n",
    "\n",
    "- nn.Sequential() # building things sequentially\n",
    "\n",
    "- nn.MSELoss() # MSE loss\n",
    "\n",
    "- nn.BCELoss() # Binary cross entropy loss\n",
    "\n",
    "- torch.optim.SGD() # Stochistic gradient loss\n",
    "\n",
    "- torch.optim.Adam() # adam loss funtion a special case of SGD\n",
    "\n",
    "- optimizer.zero_grad() # zeroing the gradients \n",
    "\n",
    "- loss.backward() # calculating the gradients\n",
    "\n",
    "- optimizer.step() # updating the parameters on current gradient iteration\n",
    "\n",
    "- model.save_dict() # Loading the current state parameters and weights of our model\n",
    "\n",
    "- torch.save() # saving the model\n",
    "\n",
    "- torch.load_state_dict() loading the model"
   ]
  }
 ],
 "metadata": {
  "kernelspec": {
   "display_name": "Python 3 (ipykernel)",
   "language": "python",
   "name": "python3"
  },
  "language_info": {
   "codemirror_mode": {
    "name": "ipython",
    "version": 3
   },
   "file_extension": ".py",
   "mimetype": "text/x-python",
   "name": "python",
   "nbconvert_exporter": "python",
   "pygments_lexer": "ipython3",
   "version": "3.11.4"
  }
 },
 "nbformat": 4,
 "nbformat_minor": 5
}
