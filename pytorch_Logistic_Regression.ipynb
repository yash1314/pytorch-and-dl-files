{
 "cells": [
  {
   "cell_type": "code",
   "execution_count": 22,
   "id": "dddba5de",
   "metadata": {},
   "outputs": [],
   "source": [
    "## importing the libraries\n",
    "\n",
    "import torch\n",
    "import torch.nn as nn\n",
    "import numpy as np\n",
    "import matplotlib.pyplot as plt\n",
    "from sklearn.datasets import load_breast_cancer\n",
    "\n",
    "from sklearn.model_selection import train_test_split\n",
    "from sklearn.preprocessing import StandardScaler"
   ]
  },
  {
   "cell_type": "code",
   "execution_count": 23,
   "id": "79d501e9",
   "metadata": {},
   "outputs": [],
   "source": [
    "# loading the dataset\n",
    "\n",
    "data = load_breast_cancer()"
   ]
  },
  {
   "cell_type": "code",
   "execution_count": 24,
   "id": "6ca8b1a4",
   "metadata": {},
   "outputs": [],
   "source": [
    "# dividing the dataset into independent and dependent\n",
    "\n",
    "X, Y = data.data, data.target"
   ]
  },
  {
   "cell_type": "code",
   "execution_count": 25,
   "id": "71486df8",
   "metadata": {},
   "outputs": [
    {
     "data": {
      "text/plain": [
       "(569, 30)"
      ]
     },
     "execution_count": 25,
     "metadata": {},
     "output_type": "execute_result"
    }
   ],
   "source": [
    "data.data.shape"
   ]
  },
  {
   "cell_type": "code",
   "execution_count": 26,
   "id": "04a73a7f",
   "metadata": {},
   "outputs": [],
   "source": [
    "# splitting the data into train and test\n",
    "\n",
    "X_train, X_test, Y_train, Y_test = train_test_split(X,Y, test_size = 0.3)\n",
    "\n",
    "N, D = X_train.shape"
   ]
  },
  {
   "cell_type": "code",
   "execution_count": 27,
   "id": "ade03c28",
   "metadata": {},
   "outputs": [],
   "source": [
    "scaler = StandardScaler()"
   ]
  },
  {
   "cell_type": "code",
   "execution_count": 28,
   "id": "5b3c0486",
   "metadata": {},
   "outputs": [],
   "source": [
    "# scaling the data\n",
    "\n",
    "X_train = scaler.fit_transform(X_train)\n",
    "X_test = scaler.transform(X_test)"
   ]
  },
  {
   "cell_type": "code",
   "execution_count": 29,
   "id": "09f2c225",
   "metadata": {},
   "outputs": [],
   "source": [
    "# building the model\n",
    "\n",
    "model = nn.Sequential(\n",
    "    nn.Linear(D,1), \n",
    "nn.Sigmoid()\n",
    ")"
   ]
  },
  {
   "cell_type": "code",
   "execution_count": 30,
   "id": "7b63829d",
   "metadata": {},
   "outputs": [],
   "source": [
    "# loss and optimizer\n",
    "\n",
    "criterion = nn.BCELoss()\n",
    "\n",
    "optimizer = torch.optim.Adam(model.parameters())"
   ]
  },
  {
   "cell_type": "code",
   "execution_count": 31,
   "id": "42883544",
   "metadata": {},
   "outputs": [],
   "source": [
    "# converting numpy objects to torch tensors\n",
    "\n",
    "X_train = torch.from_numpy(X_train.astype(np.float32))\n",
    "X_test = torch.from_numpy(X_test.astype(np.float32))\n",
    "Y_train = torch.from_numpy(Y_train.astype(np.float32).reshape(-1, 1))\n",
    "Y_test = torch.from_numpy(Y_test.astype(np.float32).reshape(-1, 1))"
   ]
  },
  {
   "cell_type": "code",
   "execution_count": 33,
   "id": "b2104a48",
   "metadata": {},
   "outputs": [
    {
     "name": "stdout",
     "output_type": "stream",
     "text": [
      "epoch 50/1000, Train loss 0.4161, Test loss 0.3974\n",
      "epoch 100/1000, Train loss 0.3182, Test loss 0.2935\n",
      "epoch 150/1000, Train loss 0.2604, Test loss 0.2352\n",
      "epoch 200/1000, Train loss 0.2231, Test loss 0.1986\n",
      "epoch 250/1000, Train loss 0.1970, Test loss 0.1739\n",
      "epoch 300/1000, Train loss 0.1778, Test loss 0.1562\n",
      "epoch 350/1000, Train loss 0.1630, Test loss 0.1432\n",
      "epoch 400/1000, Train loss 0.1511, Test loss 0.1333\n",
      "epoch 450/1000, Train loss 0.1415, Test loss 0.1256\n",
      "epoch 500/1000, Train loss 0.1335, Test loss 0.1195\n",
      "epoch 550/1000, Train loss 0.1267, Test loss 0.1145\n",
      "epoch 600/1000, Train loss 0.1209, Test loss 0.1104\n",
      "epoch 650/1000, Train loss 0.1159, Test loss 0.1070\n",
      "epoch 700/1000, Train loss 0.1114, Test loss 0.1042\n",
      "epoch 750/1000, Train loss 0.1076, Test loss 0.1017\n",
      "epoch 800/1000, Train loss 0.1041, Test loss 0.0996\n",
      "epoch 850/1000, Train loss 0.1010, Test loss 0.0977\n",
      "epoch 900/1000, Train loss 0.0982, Test loss 0.0961\n",
      "epoch 950/1000, Train loss 0.0957, Test loss 0.0947\n",
      "epoch 1000/1000, Train loss 0.0933, Test loss 0.0934\n"
     ]
    }
   ],
   "source": [
    "# training the model\n",
    "\n",
    "n_epochs = 1000\n",
    "\n",
    "train_losses = np.zeros(n_epochs)\n",
    "test_losses = np.zeros(n_epochs)\n",
    "\n",
    "for it in range(n_epochs):\n",
    "    \n",
    "    optimizer.zero_grad()\n",
    "    \n",
    "    # train data\n",
    "    \n",
    "    output_train = model(X_train)\n",
    "    loss_train = criterion(output_train, Y_train)\n",
    "    \n",
    "    loss_train.backward()\n",
    "    optimizer.step()\n",
    "    \n",
    "    # test data\n",
    "    \n",
    "    output_test = model(X_test)\n",
    "    loss_test = criterion(output_test, Y_test)\n",
    "    \n",
    "    train_losses[it] = loss_train.item()\n",
    "    test_losses[it] = loss_test.item()\n",
    "    \n",
    "    if (it + 1) % 50 == 0:\n",
    "        print(f\"epoch {it+1}/{n_epochs}, Train loss {loss_train.item():.4f}, Test loss {loss_test.item():.4f}\")"
   ]
  },
  {
   "cell_type": "code",
   "execution_count": 34,
   "id": "2d4935e5",
   "metadata": {},
   "outputs": [
    {
     "data": {
      "text/plain": [
       "[<matplotlib.lines.Line2D at 0x27efab85bd0>]"
      ]
     },
     "execution_count": 34,
     "metadata": {},
     "output_type": "execute_result"
    },
    {
     "data": {
      "image/png": "[encoded data removed]",
      "text/plain": [
       "<Figure size 640x480 with 1 Axes>"
      ]
     },
     "metadata": {},
     "output_type": "display_data"
    }
   ],
   "source": [
    "# plotting the train and test data\n",
    "\n",
    "plt.plot(train_losses, label = 'train loss')\n",
    "plt.plot(test_losses, label = 'test loss')"
   ]
  },
  {
   "cell_type": "code",
   "execution_count": 37,
   "id": "dda6d3fd",
   "metadata": {},
   "outputs": [
    {
     "name": "stdout",
     "output_type": "stream",
     "text": [
      "Train acc: 0.9849, Test acc: 0.9708\n"
     ]
    }
   ],
   "source": [
    "# calculating accuracy\n",
    "\n",
    "with torch.no_grad():\n",
    "    p_train = model(X_train)\n",
    "    p_train = np.round(p_train.numpy())\n",
    "    train_acc = np.mean(Y_train.numpy() == p_train)\n",
    "    \n",
    "    p_test = model(X_test)\n",
    "    p_test = np.round(p_test.numpy())\n",
    "    test_acc = np.mean(Y_test.numpy() == p_test)\n",
    "    \n",
    "print(f\"Train acc: {train_acc:.4f}, Test acc: {test_acc:.4f}\")"
   ]
  },
  {
   "cell_type": "code",
   "execution_count": 38,
   "id": "2eef0b0d",
   "metadata": {},
   "outputs": [
    {
     "data": {
      "text/plain": [
       "OrderedDict([('0.weight',\n",
       "              tensor([[-0.2224, -0.4705, -0.3966, -0.4663, -0.0220, -0.2326, -0.4756, -0.3201,\n",
       "                       -0.2918,  0.3783, -0.3554,  0.0843, -0.3533, -0.5204,  0.1847,  0.6362,\n",
       "                        0.0303, -0.1491, -0.0452,  0.2997, -0.4267, -0.6220, -0.2886, -0.5131,\n",
       "                       -0.5527, -0.3038, -0.2224, -0.2796, -0.2483, -0.4607]])),\n",
       "             ('0.bias', tensor([0.4254]))])"
      ]
     },
     "execution_count": 38,
     "metadata": {},
     "output_type": "execute_result"
    }
   ],
   "source": [
    "model.state_dict() # to get the values of parameters in each layers"
   ]
  },
  {
   "cell_type": "code",
   "execution_count": 39,
   "id": "b2badcd7",
   "metadata": {},
   "outputs": [],
   "source": [
    "torch.save(model.state_dict(), 'mymodel.pt') # saving the model"
   ]
  },
  {
   "cell_type": "code",
   "execution_count": 42,
   "id": "fb14ec39",
   "metadata": {},
   "outputs": [],
   "source": [
    "# to use the saved model, we have to again make the architecture and then use our saved model.\n",
    "\n",
    "model2 = nn.Sequential(\n",
    "nn.Linear(D, 1),\n",
    "nn.Sigmoid()\n",
    ")"
   ]
  },
  {
   "cell_type": "code",
   "execution_count": 43,
   "id": "c4409ed9",
   "metadata": {},
   "outputs": [
    {
     "data": {
      "text/plain": [
       "<All keys matched successfully>"
      ]
     },
     "execution_count": 43,
     "metadata": {},
     "output_type": "execute_result"
    }
   ],
   "source": [
    "model.load_state_dict(torch.load('mymodel.pt')) # our model is successfully loaded and ready to use"
   ]
  },
  {
   "cell_type": "code",
   "execution_count": null,
   "id": "27245bc2",
   "metadata": {},
   "outputs": [],
   "source": []
  }
 ],
 "metadata": {
  "kernelspec": {
   "display_name": "Python 3 (ipykernel)",
   "language": "python",
   "name": "python3"
  },
  "language_info": {
   "codemirror_mode": {
    "name": "ipython",
    "version": 3
   },
   "file_extension": ".py",
   "mimetype": "text/x-python",
   "name": "python",
   "nbconvert_exporter": "python",
   "pygments_lexer": "ipython3",
   "version": "3.11.4"
  }
 },
 "nbformat": 4,
 "nbformat_minor": 5
}
